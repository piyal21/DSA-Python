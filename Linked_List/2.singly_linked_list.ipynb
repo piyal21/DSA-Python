{
 "cells": [
  {
   "cell_type": "markdown",
   "id": "8e6a49a9",
   "metadata": {},
   "source": [
    "# Singly linked list"
   ]
  },
  {
   "cell_type": "code",
   "execution_count": 6,
   "id": "7aa66d6a",
   "metadata": {},
   "outputs": [],
   "source": [
    "# creating NODE class \n",
    "\n",
    "class Node:\n",
    "    def __init__(self,val):\n",
    "        self.val = val\n",
    "        self.next = None\n"
   ]
  },
  {
   "cell_type": "code",
   "execution_count": null,
   "id": "4ae0b3fd",
   "metadata": {},
   "outputs": [],
   "source": [
    "#creating singly linked list class \n",
    "\n",
    "class singlyLinkedList:\n",
    "    def __init__(self):\n",
    "        self.head=None\n",
    "    \n",
    "    #Function to add new values in the List -> \n",
    "    def AddNewValue(self,val):\n",
    "        new_node = Node(val)\n",
    "        \n",
    "        if self.head == None:\n",
    "            self.head = new_node\n",
    "        else:\n",
    "            curr = self.head\n",
    "            while curr.next is not None:\n",
    "                curr = curr.next\n",
    "            curr.next = new_node\n",
    "            \n",
    "    #Function to print values from the list ->\n",
    "    def PrintValuesFromList(self):\n",
    "        if self.head == None:\n",
    "            print('List is empty')\n",
    "        else:\n",
    "            curr = self.head\n",
    "            while curr.next is not None:\n",
    "                print(curr.val)\n",
    "                curr=curr.next\n",
    "            print(curr.val)\n",
    "            \n",
    "    # Function : Find out the number of nodes : \n",
    "    def NodeCount(self):\n",
    "        if self.head == None:\n",
    "            print('Node is empty')\n",
    "        else:\n",
    "            current = self.head\n",
    "            count = 1\n",
    "            while current.next is not None:\n",
    "                count +=1 \n",
    "                current = current.next\n",
    "        return count\n",
    "        \n",
    "        \n",
    "\n",
    "    #Function : Insert node at any position\n",
    "    def InsertAtPosition(self,val,position):\n",
    "        \n",
    "        new_node = Node(val)\n",
    "        \n",
    "        if position == 0:\n",
    "            new_node.next = self.head\n",
    "            self.head = new_node\n",
    "        \n",
    "        current = self.head\n",
    "        prev_node = None\n",
    "        count = 0\n",
    "        while current is not None and count < position:\n",
    "            prev_node = current\n",
    "            current = current.next\n",
    "            count +=1\n",
    "        prev_node.next = new_node\n",
    "        new_node.next = current\n",
    "        \n",
    "        \n",
    "                    \n",
    "    # Function : Delete node at any position \n",
    "    def DeleteNode(self,val):\n",
    "        temp = self.head\n",
    "        if temp.next is not None:\n",
    "            if temp.val == val:\n",
    "                self.head = temp.next\n",
    "                del(temp)\n",
    "                return \n",
    "            else:\n",
    "                found = False\n",
    "                prev_node = None\n",
    "                while temp is not None:\n",
    "                    if temp.val==val:\n",
    "                        found = True\n",
    "                        break\n",
    "                    prev_node = temp\n",
    "                    temp = temp.next\n",
    "                \n",
    "                if found :\n",
    "                    prev_node.next = temp.next\n",
    "                    del(temp)\n",
    "                    return \n",
    "                else:\n",
    "                    print('Node not found.')\n",
    "            \n",
    "                \n",
    "        \n",
    "        \n",
    "            \n",
    "            "
   ]
  },
  {
   "cell_type": "code",
   "execution_count": 32,
   "id": "a64c7d6b",
   "metadata": {},
   "outputs": [
    {
     "name": "stdout",
     "output_type": "stream",
     "text": [
      "List is empty\n"
     ]
    }
   ],
   "source": [
    "n1 = singlyLinkedList()\n",
    "n1.PrintValuesFromList()"
   ]
  },
  {
   "cell_type": "code",
   "execution_count": 33,
   "id": "8ac4f2f2",
   "metadata": {},
   "outputs": [],
   "source": [
    "n1.AddNewValue(6)\n",
    "n1.AddNewValue(8)\n",
    "n1.AddNewValue(17)\n",
    "n1.AddNewValue(21)\n"
   ]
  },
  {
   "cell_type": "code",
   "execution_count": 34,
   "id": "f83e960c",
   "metadata": {},
   "outputs": [
    {
     "name": "stdout",
     "output_type": "stream",
     "text": [
      "6\n",
      "8\n",
      "17\n",
      "21\n"
     ]
    }
   ],
   "source": [
    "n1.PrintValuesFromList()"
   ]
  },
  {
   "cell_type": "code",
   "execution_count": 35,
   "id": "20cf36fc",
   "metadata": {},
   "outputs": [
    {
     "name": "stdout",
     "output_type": "stream",
     "text": [
      "6\n",
      "999\n",
      "17\n",
      "21\n"
     ]
    }
   ],
   "source": [
    "n1.InsertAtPosition(999,2)\n",
    "n1.PrintValuesFromList()"
   ]
  },
  {
   "cell_type": "code",
   "execution_count": null,
   "id": "ad529dfc",
   "metadata": {},
   "outputs": [],
   "source": []
  },
  {
   "cell_type": "code",
   "execution_count": null,
   "id": "64aa207a",
   "metadata": {},
   "outputs": [],
   "source": []
  }
 ],
 "metadata": {
  "kernelspec": {
   "display_name": "base",
   "language": "python",
   "name": "python3"
  },
  "language_info": {
   "codemirror_mode": {
    "name": "ipython",
    "version": 3
   },
   "file_extension": ".py",
   "mimetype": "text/x-python",
   "name": "python",
   "nbconvert_exporter": "python",
   "pygments_lexer": "ipython3",
   "version": "3.12.7"
  }
 },
 "nbformat": 4,
 "nbformat_minor": 5
}
