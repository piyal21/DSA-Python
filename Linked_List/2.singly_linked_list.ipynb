{
 "cells": [
  {
   "cell_type": "markdown",
   "id": "8e6a49a9",
   "metadata": {},
   "source": [
    "# Singly linked list"
   ]
  },
  {
   "cell_type": "code",
   "execution_count": 1,
   "id": "7aa66d6a",
   "metadata": {},
   "outputs": [],
   "source": [
    "# creating NODE class \n",
    "\n",
    "class Node:\n",
    "    def __init__(self,val):\n",
    "        self.val = val\n",
    "        self.next = None\n"
   ]
  },
  {
   "cell_type": "code",
   "execution_count": 2,
   "id": "4ae0b3fd",
   "metadata": {},
   "outputs": [],
   "source": [
    "#creating singly linked list class \n",
    "class singlyLinkedList:\n",
    "    def __init__(self):\n",
    "        self.head=None\n",
    "    \n",
    "    #Function to add new values in the List -> \n",
    "    def Add_New_Value(self,val):\n",
    "        new_node = Node(val)\n",
    "        \n",
    "        if self.head == None:\n",
    "            self.head = new_node\n",
    "        else:\n",
    "            curr = self.head\n",
    "            while curr.next is not None:\n",
    "                curr = curr.next\n",
    "            curr.next = new_node\n",
    "            \n",
    "    #Function to print values from the list ->\n",
    "    def Print_Values_From_List(self):\n",
    "        if self.head == None:\n",
    "            print('List is empty')\n",
    "        else:\n",
    "            curr = self.head\n",
    "            while curr.next is not None:\n",
    "                print(curr.val)\n",
    "                curr=curr.next\n",
    "            print(curr.val)\n",
    "            \n",
    "    # Function : Find out the number of nodes : \n",
    "    def Node_Count(self):\n",
    "        if self.head == None:\n",
    "            print('Node is empty')\n",
    "        else:\n",
    "            current = self.head\n",
    "            count = 1\n",
    "            while current.next is not None:\n",
    "                count +=1 \n",
    "                current = current.next\n",
    "        return count\n",
    "        \n",
    "    #Function : Insert node at any position\n",
    "    def Insert_At_Position(self,val,position):\n",
    "        \n",
    "        new_node = Node(val)\n",
    "        \n",
    "        if position == 1:\n",
    "            new_node.next = self.head\n",
    "            self.head = new_node\n",
    "        else:\n",
    "            current = self.head\n",
    "            prev_node = None\n",
    "            count = 1\n",
    "            while current is not None and count < position:\n",
    "                prev_node = current\n",
    "                current = current.next\n",
    "                count +=1\n",
    "            prev_node.next = new_node\n",
    "            new_node.next = current\n",
    "        \n",
    "    # Function : Delete node at any position \n",
    "    def Delete_Node(self,val):\n",
    "        temp = self.head\n",
    "        if temp.next is not None:\n",
    "            if temp.val == val:\n",
    "                self.head = temp.next\n",
    "                del(temp)\n",
    "                return \n",
    "            else:\n",
    "                found = False\n",
    "                prev_node = None\n",
    "                while temp is not None:\n",
    "                    if temp.val==val:\n",
    "                        found = True\n",
    "                        break\n",
    "                    prev_node = temp\n",
    "                    temp = temp.next\n",
    "                \n",
    "                if found :\n",
    "                    prev_node.next = temp.next\n",
    "                    del(temp)\n",
    "                    return \n",
    "                else:\n",
    "                    print('Node not found.')"
   ]
  },
  {
   "cell_type": "code",
   "execution_count": 3,
   "id": "ad529dfc",
   "metadata": {},
   "outputs": [],
   "source": [
    "n1 = singlyLinkedList()"
   ]
  },
  {
   "cell_type": "code",
   "execution_count": 4,
   "id": "64aa207a",
   "metadata": {},
   "outputs": [],
   "source": [
    "n1.Add_New_Value(5)\n",
    "n1.Add_New_Value(11)\n",
    "n1.Add_New_Value(17)\n",
    "n1.Add_New_Value(22)\n"
   ]
  },
  {
   "cell_type": "code",
   "execution_count": 5,
   "id": "c524d854",
   "metadata": {},
   "outputs": [
    {
     "name": "stdout",
     "output_type": "stream",
     "text": [
      "5\n",
      "11\n",
      "17\n",
      "22\n"
     ]
    }
   ],
   "source": [
    "n1.Print_Values_From_List()"
   ]
  },
  {
   "cell_type": "code",
   "execution_count": 6,
   "id": "727e7354",
   "metadata": {},
   "outputs": [
    {
     "name": "stdout",
     "output_type": "stream",
     "text": [
      "5\n",
      "333\n",
      "11\n",
      "17\n",
      "22\n"
     ]
    }
   ],
   "source": [
    "n1.Insert_At_Position(333,2)\n",
    "n1.Print_Values_From_List()"
   ]
  },
  {
   "cell_type": "code",
   "execution_count": 7,
   "id": "c0a75844",
   "metadata": {},
   "outputs": [
    {
     "name": "stdout",
     "output_type": "stream",
     "text": [
      "5\n",
      "333\n",
      "11\n",
      "17\n",
      "22\n",
      "6\n"
     ]
    }
   ],
   "source": [
    "n1.Insert_At_Position(6,6)\n",
    "n1.Print_Values_From_List()"
   ]
  },
  {
   "cell_type": "code",
   "execution_count": null,
   "id": "c4c72944",
   "metadata": {},
   "outputs": [],
   "source": []
  }
 ],
 "metadata": {
  "kernelspec": {
   "display_name": "base",
   "language": "python",
   "name": "python3"
  },
  "language_info": {
   "codemirror_mode": {
    "name": "ipython",
    "version": 3
   },
   "file_extension": ".py",
   "mimetype": "text/x-python",
   "name": "python",
   "nbconvert_exporter": "python",
   "pygments_lexer": "ipython3",
   "version": "3.12.7"
  }
 },
 "nbformat": 4,
 "nbformat_minor": 5
}
