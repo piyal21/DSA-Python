{
 "cells": [
  {
   "cell_type": "markdown",
   "id": "8e6a49a9",
   "metadata": {},
   "source": [
    "# Singly linked list"
   ]
  },
  {
   "cell_type": "code",
   "execution_count": 11,
   "id": "7aa66d6a",
   "metadata": {},
   "outputs": [],
   "source": [
    "# creating NODE class \n",
    "\n",
    "class Node:\n",
    "    def __init__(self,val):\n",
    "        self.val = val\n",
    "        self.next = None\n"
   ]
  },
  {
   "cell_type": "code",
   "execution_count": null,
   "id": "4ae0b3fd",
   "metadata": {},
   "outputs": [],
   "source": [
    "#creating singly linked list class \n",
    "\n",
    "class singlyLinkedList:\n",
    "    def __init__(self):\n",
    "        self.head=None\n",
    "    \n",
    "    #Function to add new values in the List -> \n",
    "    def AppendNewValue(self,val):\n",
    "        new_node = Node(val)\n",
    "        \n",
    "        if self.head == None:\n",
    "            self.head = new_node\n",
    "        else:\n",
    "            curr = self.head\n",
    "            while curr.next is not None:\n",
    "                curr = curr.next\n",
    "            curr.next = new_node\n",
    "            \n",
    "    #Function to print values from the list ->\n",
    "    def PrintValuesFromList(self):\n",
    "        if self.head == None:\n",
    "            print('List is empty')\n",
    "        else:\n",
    "            curr = self.head\n",
    "            while curr.next is not None:\n",
    "                print(curr.val)\n",
    "                curr=curr.next\n",
    "            print(curr.val)\n",
    "            \n",
    "    # Function to count the nodes : \n",
    "    def NodeCount(self):\n",
    "        if self.head == None:\n",
    "            print('Node is empty')\n",
    "        else:\n",
    "            current = self.head\n",
    "            count = 1\n",
    "            while current.next is not None:\n",
    "                count +=1 \n",
    "                current = current.next\n",
    "        print('No of nodes in the list -> ',count)\n",
    "            \n",
    "            "
   ]
  },
  {
   "cell_type": "code",
   "execution_count": 17,
   "id": "a64c7d6b",
   "metadata": {},
   "outputs": [
    {
     "name": "stdout",
     "output_type": "stream",
     "text": [
      "5\n",
      "10\n",
      "107\n"
     ]
    }
   ],
   "source": [
    "# adding values to the new node \n",
    "n1 = singlyLinkedList()\n",
    "n1.AppendNewValue(5)\n",
    "n1.AppendNewValue(10)\n",
    "n1.AppendNewValue(107)\n",
    "\n",
    "n1.PrintValuesFromList()"
   ]
  },
  {
   "cell_type": "code",
   "execution_count": null,
   "id": "f8e4a36a",
   "metadata": {},
   "outputs": [],
   "source": []
  }
 ],
 "metadata": {
  "kernelspec": {
   "display_name": "base",
   "language": "python",
   "name": "python3"
  },
  "language_info": {
   "codemirror_mode": {
    "name": "ipython",
    "version": 3
   },
   "file_extension": ".py",
   "mimetype": "text/x-python",
   "name": "python",
   "nbconvert_exporter": "python",
   "pygments_lexer": "ipython3",
   "version": "3.12.7"
  }
 },
 "nbformat": 4,
 "nbformat_minor": 5
}
