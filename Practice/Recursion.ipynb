{
 "cells": [
  {
   "cell_type": "code",
   "execution_count": 1,
   "id": "0d1a8ae7",
   "metadata": {},
   "outputs": [
    {
     "name": "stdout",
     "output_type": "stream",
     "text": [
      "4\n",
      "3\n",
      "2\n",
      "1\n"
     ]
    }
   ],
   "source": [
    "# --> Printing N - 1 \n",
    "\n",
    "def printNto1(i):\n",
    "    if i < 1:\n",
    "        return\n",
    "    print(i)\n",
    "    printNto1(i-1)\n",
    "    \n",
    "    \n",
    "k = int(input('Enter Nth value: '))\n",
    "printNto1(k)"
   ]
  },
  {
   "cell_type": "code",
   "execution_count": 3,
   "id": "687376b9",
   "metadata": {},
   "outputs": [
    {
     "name": "stdout",
     "output_type": "stream",
     "text": [
      "55\n"
     ]
    }
   ],
   "source": [
    "# --> Functional Recursion\n",
    "# --> Sum of 1 -N using recursion\n",
    "\n",
    "\n",
    "def SumUsingRecursion(sum,i,n):\n",
    "    \n",
    "    if i > n :\n",
    "        print(sum)\n",
    "        return\n",
    "    sum += i \n",
    "    SumUsingRecursion(sum,i+1,n)\n",
    "    \n",
    "    \n",
    "SumUsingRecursion(0,1,10)"
   ]
  },
  {
   "cell_type": "code",
   "execution_count": 5,
   "id": "e6978b10",
   "metadata": {},
   "outputs": [
    {
     "name": "stdout",
     "output_type": "stream",
     "text": [
      "Sum of 1 to  10  is =   55\n"
     ]
    }
   ],
   "source": [
    "# --> Sum of 1 - N using math \n",
    "\n",
    "def sumofnumbers(n):\n",
    "    return (n*(n+1)//2)\n",
    "\n",
    "k = int(input('Enter value :'))\n",
    "\n",
    "print('Sum of 1 to ',k,' is =  ',sumofnumbers(k))"
   ]
  },
  {
   "cell_type": "code",
   "execution_count": 7,
   "id": "5f92cbb3",
   "metadata": {},
   "outputs": [
    {
     "data": {
      "text/plain": [
       "10"
      ]
     },
     "execution_count": 7,
     "metadata": {},
     "output_type": "execute_result"
    }
   ],
   "source": [
    "# Minimal code for fiding sum \n",
    "\n",
    "def fidingsum(n):\n",
    "    if n ==1:\n",
    "        return 1\n",
    "    return n+fidingsum(n-1)\n",
    "\n",
    "fidingsum(4)"
   ]
  },
  {
   "cell_type": "code",
   "execution_count": 10,
   "id": "74010a4f",
   "metadata": {},
   "outputs": [
    {
     "data": {
      "text/plain": [
       "1"
      ]
     },
     "execution_count": 10,
     "metadata": {},
     "output_type": "execute_result"
    }
   ],
   "source": [
    "# Factorial using recursion \n",
    "\n",
    "def factorial1(n):\n",
    "    if n==0 or n==1:\n",
    "        return 1\n",
    "    return n * factorial1(n-1)\n",
    "\n",
    "factorial1(0)"
   ]
  },
  {
   "cell_type": "code",
   "execution_count": 16,
   "id": "76bf6a37",
   "metadata": {},
   "outputs": [
    {
     "name": "stdout",
     "output_type": "stream",
     "text": [
      "9\n",
      "5\n",
      "1\n",
      "6\n",
      "2\n",
      "3\n",
      "7\n",
      "5\n",
      "9\n"
     ]
    }
   ],
   "source": [
    "# Reverse an array using recursion \n",
    "\n",
    "\n",
    "num_list = [5,7,3,2,6,1,5,9]\n",
    "\n",
    "n = len(num_list)\n",
    "\n",
    "def reverse1(n):\n",
    "    if n < 0:\n",
    "        return \n",
    "    print(num_list[n-1])\n",
    "    reverse1(n-1)\n",
    "\n",
    "\n",
    "reverse1(n)"
   ]
  },
  {
   "cell_type": "code",
   "execution_count": 19,
   "id": "bfcb5ff1",
   "metadata": {},
   "outputs": [
    {
     "name": "stdout",
     "output_type": "stream",
     "text": [
      "[9, 5, 1, 6, 2, 3, 7, 5]\n"
     ]
    }
   ],
   "source": [
    "num_list = [5,7,3,2,6,1,5,9]\n",
    "\n",
    "\n",
    "def revlist(l,left,right):\n",
    "    if left >= right:\n",
    "        return\n",
    "    \n",
    "    l[left],l[right]= l[right],l[left]\n",
    "    revlist(l,left+1,right-1)\n",
    "    \n",
    "revlist(num_list,0,len(num_list)-1)\n",
    "print(num_list)\n",
    "    "
   ]
  },
  {
   "cell_type": "code",
   "execution_count": 8,
   "id": "24ed3b2f",
   "metadata": {},
   "outputs": [
    {
     "name": "stdout",
     "output_type": "stream",
     "text": [
      "True\n"
     ]
    }
   ],
   "source": [
    "# check palindrome using loop \n",
    "\n",
    "x = 'abcba'\n",
    "\n",
    "\n",
    "def check(a,l,r):\n",
    "    while l >= r :\n",
    "        return True\n",
    "    if a[l] != a[r]:\n",
    "        return False\n",
    "    \n",
    "    return check(a,l+1,r-1)\n",
    "    \n",
    "    \n",
    "k=check(x,0,len(x)-1)\n",
    "print(k)"
   ]
  },
  {
   "cell_type": "code",
   "execution_count": null,
   "id": "9cfeecc3",
   "metadata": {},
   "outputs": [
    {
     "name": "stdout",
     "output_type": "stream",
     "text": [
      "8\n",
      "[1, 2, 4, 5, 6, 7, 8, 9]\n"
     ]
    }
   ],
   "source": [
    "#selection sort \n",
    "\n",
    "nums = [ 5,7,8,4,1,6,9,2]\n",
    "print(len(nums))\n",
    "\n",
    "def selection_sort(l):\n",
    "    \n",
    "    n=len(l) # --> here length of list = 8\n",
    "    \n",
    "    for i in range(0,n): #--> the loop runs from 0->(n-1) = 0 -> 7\n",
    "        for j in range(i+1,n):\n",
    "            if l[j] < l[i]:\n",
    "                l[i],l[j]=l[j],l[i]\n",
    "    \n",
    "    print(l)\n",
    "    \n",
    "    \n",
    "selection_sort(nums)"
   ]
  },
  {
   "cell_type": "code",
   "execution_count": null,
   "id": "6839ff3c",
   "metadata": {},
   "outputs": [
    {
     "name": "stdout",
     "output_type": "stream",
     "text": [
      "8\n",
      "[9, 8, 7, 6, 5, 4, 2, 1]\n"
     ]
    }
   ],
   "source": [
    "# selection sort descending order \n",
    "#selection sort \n",
    "\n",
    "nums = [ 5,7,8,4,1,6,9,2]\n",
    "print(len(nums))\n",
    "\n",
    "def selection_sort(l):\n",
    "    \n",
    "    n=len(l) # --> here length of list = 8\n",
    "    \n",
    "    for i in range(0,n): #--> the loop runs from 0->(n-1) = 0 -> 7\n",
    "        for j in range(0,n): # change this value from i+1-> 0\n",
    "            if l[j] < l[i]:\n",
    "                l[i],l[j]=l[j],l[i]\n",
    "    \n",
    "    print(l)\n",
    "    \n",
    "    \n",
    "selection_sort(nums)"
   ]
  },
  {
   "cell_type": "code",
   "execution_count": null,
   "id": "8c8ef3ab",
   "metadata": {},
   "outputs": [],
   "source": [
    "# rotate by kth place \n",
    "nums = [3,9,5,6,7,2,-10,99]\n",
    "print('Before :', nums)\n",
    "k =4 #--> number of rotation \n",
    "n = len(nums)\n",
    "rotation = k%n\n",
    "\n",
    "nums[:]= nums[rotation:]+nums[0:rotation] \n",
    "\n",
    "\n"
   ]
  },
  {
   "cell_type": "code",
   "execution_count": null,
   "id": "16f6773b",
   "metadata": {},
   "outputs": [
    {
     "name": "stdout",
     "output_type": "stream",
     "text": [
      "Before rotation: [3, 9, 5, 6, 7, 2, -10, 99]\n",
      "After rotation : [7, 2, -10, 99, 3, 9, 5, 6]\n"
     ]
    }
   ],
   "source": [
    "# --> Rotate by kth place\n",
    "\n",
    "\n",
    "nums = [3,9,5,6,7,2,-10,99]\n",
    "\n",
    "def rotate_items(nums,rotation):\n",
    "    len_of_array= len(nums)\n",
    "    k = rotation % len_of_array # --> Number of elements that needs to move on the right \n",
    "    \n",
    "    nums[:]= nums[-k:] + nums[:-k]\n",
    "\n",
    "\n",
    "r = int(input('How many rotation you want: '))\n",
    "print('Before rotation:',nums)\n",
    "rotate_items(nums,r)\n",
    "print('After rotation :',nums)\n"
   ]
  },
  {
   "cell_type": "code",
   "execution_count": 1,
   "id": "01a37b21",
   "metadata": {},
   "outputs": [
    {
     "name": "stdout",
     "output_type": "stream",
     "text": [
      "[1, 2, 4, 0, 3, 0, 0, 3, 5, 1]\n",
      "\n",
      "[1, 2, 4, 3, 3, 5, 1, 0, 0, 0]\n"
     ]
    }
   ],
   "source": [
    "\n",
    "# move zeros to the end \n",
    "\n",
    "\n",
    "nums = [ 1,2,4,0,3,0,0,3,5,1]\n",
    "\n",
    "\n",
    "\n",
    "def move_zeros(nums):\n",
    "    n= len(nums)\n",
    "    i=0\n",
    "\n",
    "    while i<n:\n",
    "        if nums[i]==0:\n",
    "            break \n",
    "        i+=1\n",
    "    if i == n:\n",
    "        return\n",
    "    j= i+1 \n",
    "    while j<n:\n",
    "        if nums[j] != 0:\n",
    "            nums[i],nums[j]= nums[j],nums[i]\n",
    "            i+=1\n",
    "        j+=1\n",
    "    \n",
    "    \n",
    "print(nums)\n",
    "print()\n",
    "move_zeros(nums)\n",
    "print(nums)"
   ]
  },
  {
   "cell_type": "code",
   "execution_count": null,
   "id": "f136a54c",
   "metadata": {},
   "outputs": [],
   "source": []
  }
 ],
 "metadata": {
  "kernelspec": {
   "display_name": "base",
   "language": "python",
   "name": "python3"
  },
  "language_info": {
   "codemirror_mode": {
    "name": "ipython",
    "version": 3
   },
   "file_extension": ".py",
   "mimetype": "text/x-python",
   "name": "python",
   "nbconvert_exporter": "python",
   "pygments_lexer": "ipython3",
   "version": "3.12.7"
  }
 },
 "nbformat": 4,
 "nbformat_minor": 5
}
