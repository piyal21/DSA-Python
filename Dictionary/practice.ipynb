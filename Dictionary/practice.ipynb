{
 "cells": [
  {
   "cell_type": "code",
   "execution_count": 1,
   "id": "5eb50499",
   "metadata": {},
   "outputs": [
    {
     "name": "stdout",
     "output_type": "stream",
     "text": [
      "{'apple': 5.67, 'avocado': 2.88, 'milk': 0.65}\n"
     ]
    }
   ],
   "source": [
    "book = dict()\n",
    "\n",
    "\n",
    "book['apple']= 5.67\n",
    "book ['avocado']= 2.88\n",
    "book['milk']=0.65\n",
    "print(book)"
   ]
  },
  {
   "cell_type": "code",
   "execution_count": 2,
   "id": "64cb9364",
   "metadata": {},
   "outputs": [
    {
     "name": "stdout",
     "output_type": "stream",
     "text": [
      "2.88\n"
     ]
    }
   ],
   "source": [
    "print(book['avocado'])"
   ]
  },
  {
   "cell_type": "code",
   "execution_count": 3,
   "id": "66e82bf1",
   "metadata": {},
   "outputs": [
    {
     "name": "stdout",
     "output_type": "stream",
     "text": [
      "apple\n",
      "avocado\n",
      "milk\n"
     ]
    }
   ],
   "source": [
    "for key,value in book.items():\n",
    "    print(key)"
   ]
  },
  {
   "cell_type": "code",
   "execution_count": 4,
   "id": "7140d244",
   "metadata": {},
   "outputs": [
    {
     "name": "stdout",
     "output_type": "stream",
     "text": [
      "5.67\n",
      "2.88\n",
      "0.65\n"
     ]
    }
   ],
   "source": [
    "for key,value in book.items():\n",
    "    print(value)"
   ]
  }
 ],
 "metadata": {
  "kernelspec": {
   "display_name": "base",
   "language": "python",
   "name": "python3"
  },
  "language_info": {
   "codemirror_mode": {
    "name": "ipython",
    "version": 3
   },
   "file_extension": ".py",
   "mimetype": "text/x-python",
   "name": "python",
   "nbconvert_exporter": "python",
   "pygments_lexer": "ipython3",
   "version": "3.12.7"
  }
 },
 "nbformat": 4,
 "nbformat_minor": 5
}
