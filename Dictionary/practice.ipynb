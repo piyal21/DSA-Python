{
 "cells": [
  {
   "cell_type": "code",
   "execution_count": 1,
   "id": "5eb50499",
   "metadata": {},
   "outputs": [
    {
     "name": "stdout",
     "output_type": "stream",
     "text": [
      "{'apple': 5.67, 'avocado': 2.88, 'milk': 0.65}\n"
     ]
    }
   ],
   "source": [
    "book = dict()\n",
    "\n",
    "\n",
    "book['apple']= 5.67\n",
    "book ['avocado']= 2.88\n",
    "book['milk']=0.65\n",
    "print(book)"
   ]
  },
  {
   "cell_type": "code",
   "execution_count": 2,
   "id": "64cb9364",
   "metadata": {},
   "outputs": [
    {
     "name": "stdout",
     "output_type": "stream",
     "text": [
      "2.88\n"
     ]
    }
   ],
   "source": [
    "print(book['avocado'])"
   ]
  },
  {
   "cell_type": "code",
   "execution_count": 3,
   "id": "66e82bf1",
   "metadata": {},
   "outputs": [
    {
     "name": "stdout",
     "output_type": "stream",
     "text": [
      "apple\n",
      "avocado\n",
      "milk\n"
     ]
    }
   ],
   "source": [
    "for key,value in book.items():\n",
    "    print(key)"
   ]
  },
  {
   "cell_type": "code",
   "execution_count": 4,
   "id": "7140d244",
   "metadata": {},
   "outputs": [
    {
     "name": "stdout",
     "output_type": "stream",
     "text": [
      "5.67\n",
      "2.88\n",
      "0.65\n"
     ]
    }
   ],
   "source": [
    "for key,value in book.items():\n",
    "    print(value)"
   ]
  },
  {
   "cell_type": "code",
   "execution_count": 3,
   "id": "cf3aad71",
   "metadata": {},
   "outputs": [
    {
     "name": "stdout",
     "output_type": "stream",
     "text": [
      "{'apple': 5.678, 'banana': 2.99, 'night owl': 4.99, 'orange': 1.99, 'pineapple': 3.45}\n"
     ]
    }
   ],
   "source": [
    "# sorting dictionary by keys \n",
    "\n",
    "d1 = {\n",
    "    'apple': 5.678,\n",
    "    'banana': 2.99,\n",
    "    'pineapple':3.45,\n",
    "    'orange': 1.99,\n",
    "    'night owl': 4.99\n",
    "}\n",
    "\n",
    "keys = list(d1.keys())\n",
    "keys.sort()\n",
    "\n",
    "# sorted dictionary \n",
    "\n",
    "sorted_d1 = {i: d1[i] for i in keys}\n",
    "print(sorted_d1)"
   ]
  },
  {
   "cell_type": "code",
   "execution_count": 5,
   "id": "42ab659e",
   "metadata": {},
   "outputs": [
    {
     "name": "stdout",
     "output_type": "stream",
     "text": [
      "OrderedDict({'apple': 5.678, 'banana': 2.99, 'night owl': 4.99, 'orange': 1.99, 'pineapple': 3.45})\n"
     ]
    }
   ],
   "source": [
    "# sorting the dictionary using OrderedDict \n",
    "\n",
    "from collections import OrderedDict\n",
    "\n",
    "d1 = OrderedDict(sorted(d1.items()))\n",
    "print(d1)"
   ]
  },
  {
   "cell_type": "code",
   "execution_count": null,
   "id": "1d457b1e",
   "metadata": {},
   "outputs": [],
   "source": []
  },
  {
   "cell_type": "code",
   "execution_count": null,
   "id": "5a5810d9",
   "metadata": {},
   "outputs": [],
   "source": []
  },
  {
   "cell_type": "code",
   "execution_count": null,
   "id": "56443759",
   "metadata": {},
   "outputs": [],
   "source": []
  },
  {
   "cell_type": "code",
   "execution_count": null,
   "id": "75b91f85",
   "metadata": {},
   "outputs": [],
   "source": []
  },
  {
   "cell_type": "code",
   "execution_count": null,
   "id": "075ff66f",
   "metadata": {},
   "outputs": [],
   "source": []
  },
  {
   "cell_type": "code",
   "execution_count": null,
   "id": "2f3212fe",
   "metadata": {},
   "outputs": [],
   "source": []
  },
  {
   "cell_type": "code",
   "execution_count": null,
   "id": "c15040dc",
   "metadata": {},
   "outputs": [],
   "source": []
  },
  {
   "cell_type": "code",
   "execution_count": null,
   "id": "40da34b3",
   "metadata": {},
   "outputs": [],
   "source": []
  },
  {
   "cell_type": "code",
   "execution_count": null,
   "id": "6ec9747e",
   "metadata": {},
   "outputs": [],
   "source": []
  },
  {
   "cell_type": "code",
   "execution_count": null,
   "id": "e90fcd28",
   "metadata": {},
   "outputs": [],
   "source": []
  },
  {
   "cell_type": "code",
   "execution_count": null,
   "id": "8321ab89",
   "metadata": {},
   "outputs": [],
   "source": []
  },
  {
   "cell_type": "code",
   "execution_count": null,
   "id": "4fa85a49",
   "metadata": {},
   "outputs": [],
   "source": []
  }
 ],
 "metadata": {
  "kernelspec": {
   "display_name": "base",
   "language": "python",
   "name": "python3"
  },
  "language_info": {
   "codemirror_mode": {
    "name": "ipython",
    "version": 3
   },
   "file_extension": ".py",
   "mimetype": "text/x-python",
   "name": "python",
   "nbconvert_exporter": "python",
   "pygments_lexer": "ipython3",
   "version": "3.12.7"
  }
 },
 "nbformat": 4,
 "nbformat_minor": 5
}
